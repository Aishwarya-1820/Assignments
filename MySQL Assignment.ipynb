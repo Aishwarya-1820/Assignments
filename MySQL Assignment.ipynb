{
 "cells": [
  {
   "cell_type": "markdown",
   "id": "9f2b1225",
   "metadata": {},
   "source": [
    "Q1. What is a database? Differentiate between SQL and NoSQL databases."
   ]
  },
  {
   "cell_type": "markdown",
   "id": "bf228e31",
   "metadata": {},
   "source": [
    "A database is an organized collection of structured information, or data, typically stored electronically in a computer system. A database is usually controlled by a database management system (DBMS).\n",
    "SQL databases are vertically scalable, while NoSQL databases are horizontally scalable. SQL databases are table-based, while NoSQL databases are document, key-value, graph, or wide-column stores. SQL databases are better for multi-row transactions, while NoSQL is better for unstructured data like documents or JSON."
   ]
  },
  {
   "cell_type": "code",
   "execution_count": null,
   "id": "df05e475",
   "metadata": {},
   "outputs": [],
   "source": [
    "Q2. What is DDL? Explain why CREATE, DROP, ALTER, and TRUNCATE are used with an example."
   ]
  },
  {
   "cell_type": "markdown",
   "id": "06dd583f",
   "metadata": {},
   "source": [
    "DDL is a Data Definition Language that is used to define data structures and modify data.\n",
    "\n",
    "The CREATE TABLE command creates a new table in the database.\n",
    "CREATE TABLE Persons (\n",
    "    PersonID int,\n",
    "    LastName varchar(255),\n",
    "    FirstName varchar(255),\n",
    "    Address varchar(255),\n",
    "    City varchar(255)\n",
    ");\n",
    "\n",
    "The ALTER TABLE command adds, deletes, or modifies columns in a table.\n",
    "The ALTER TABLE command also adds and deletes various constraints in a table.\n",
    "ALTER TABLE Customers\n",
    "ADD Email varchar(255);\n",
    "\n",
    "The DROP TABLE command deletes a table in the database.\n",
    "DROP TABLE Shippers;\n",
    "\n",
    "The TRUNCATE TABLE command deletes the data inside a table, but not the table itself.\n",
    "TRUNCATE TABLE Categories;"
   ]
  },
  {
   "cell_type": "markdown",
   "id": "5c9b8576",
   "metadata": {},
   "source": [
    "Q3. What is DML? Explain INSERT, UPDATE, and DELETE with an example."
   ]
  },
  {
   "cell_type": "markdown",
   "id": "b0edbfeb",
   "metadata": {},
   "source": [
    "Data Manipulation Language or DML is a subset of operations used to insert, delete, and update data in a database.\n",
    "The SQL INSERT, UPDATE, and DELETE commands enable SQL users to manipulate and modify data: The INSERT statement introduces new rows into an existing table. The DELETE statement removes a row or combination of rows from a table. The UPDATE statement enables users to update a row or group of rows in a table.\n",
    "\n",
    "INSERT INTO tableName\n",
    "(column1, column2, ...)\n",
    "VALUES (value1, value2, ...)\n",
    "\n",
    "UPDATE tableName\n",
    "SET column1=value1, column2=value2,...\n",
    "WHERE filterColumn=filterValue\n",
    "\n",
    "DELETE tableName\n",
    "WHERE  filterColumn=filterValue;"
   ]
  },
  {
   "cell_type": "markdown",
   "id": "d1cc1296",
   "metadata": {},
   "source": [
    "Q4. What is DQL? Explain SELECT with an example."
   ]
  },
  {
   "cell_type": "markdown",
   "id": "8c7e967a",
   "metadata": {},
   "source": [
    "DQL is a portion of a SQL statement that allows you to get and organise data from a database. You can use the SELECT command to extract data from a database in order to perform actions on it. It is the same as the projection operation in relational algebra.\n",
    "\n",
    "To select all columns from a table (Customers) for rows where the Last_Name column has Smith for its value, you would send this SELECT statement to the server back end:\n",
    "\n",
    "SELECT * FROM Customers WHERE Last_Name='Smith';"
   ]
  },
  {
   "cell_type": "code",
   "execution_count": null,
   "id": "42c500e0",
   "metadata": {},
   "outputs": [],
   "source": [
    "Q5. Explain Primary Key and Foreign Key."
   ]
  },
  {
   "cell_type": "markdown",
   "id": "4adb3b2d",
   "metadata": {},
   "source": [
    "A FOREIGN KEY is a field (or collection of fields) in one table, that refers to the PRIMARY KEY in another table. The table with the foreign key is called the child table, and the table with the primary key is called the referenced or parent table."
   ]
  },
  {
   "cell_type": "code",
   "execution_count": null,
   "id": "9a5d4dc0",
   "metadata": {},
   "outputs": [],
   "source": [
    "Q6. Write a python code to connect MySQL to python. Explain the cursor() and execute() method."
   ]
  },
  {
   "cell_type": "code",
   "execution_count": null,
   "id": "0bc8876f",
   "metadata": {},
   "outputs": [],
   "source": [
    "import mysql.connector  \n",
    "\n",
    "#Create the connection object   \n",
    "myconn = mysql.connector.connect(host = \"localhost\", user = \"root\",passwd = \"google\", database = \"mydb\")  \n",
    "  \n",
    "#printing the connection object   \n",
    "print(myconn)   \n",
    "  \n",
    "#creating the cursor object  \n",
    "cur = myconn.cursor()  \n",
    "  \n",
    "print(cur)  "
   ]
  },
  {
   "cell_type": "markdown",
   "id": "3b037d2f",
   "metadata": {},
   "source": [
    "Q7. Give the order of execution of SQL clauses in an SQL query."
   ]
  },
  {
   "cell_type": "markdown",
   "id": "d796b0b2",
   "metadata": {},
   "source": [
    "The order of execution in SQL follows a specific set of rules. First, the FROM clause is evaluated, followed by the WHERE clause, then the SELECT clause. The GROUP BY clause is evaluated next, followed by the HAVING clause, and finally, the ORDER BY clause."
   ]
  }
 ],
 "metadata": {
  "kernelspec": {
   "display_name": "Python 3 (ipykernel)",
   "language": "python",
   "name": "python3"
  },
  "language_info": {
   "codemirror_mode": {
    "name": "ipython",
    "version": 3
   },
   "file_extension": ".py",
   "mimetype": "text/x-python",
   "name": "python",
   "nbconvert_exporter": "python",
   "pygments_lexer": "ipython3",
   "version": "3.9.13"
  }
 },
 "nbformat": 4,
 "nbformat_minor": 5
}
